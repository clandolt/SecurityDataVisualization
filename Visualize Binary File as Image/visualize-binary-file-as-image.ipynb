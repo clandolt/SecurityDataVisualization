{
 "cells": [
  {
   "cell_type": "markdown",
   "metadata": {},
   "source": [
    "# Visualize Binary File as Image"
   ]
  },
  {
   "cell_type": "code",
   "execution_count": 1,
   "metadata": {},
   "outputs": [
    {
     "ename": "ModuleNotFoundError",
     "evalue": "No module named 'ipywidgets'",
     "output_type": "error",
     "traceback": [
      "\u001b[1;31m---------------------------------------------------------------------------\u001b[0m",
      "\u001b[1;31mModuleNotFoundError\u001b[0m                       Traceback (most recent call last)",
      "Cell \u001b[1;32mIn[1], line 2\u001b[0m\n\u001b[0;32m      1\u001b[0m \u001b[39m# imbort der Bibliotheken\u001b[39;00m\n\u001b[1;32m----> 2\u001b[0m \u001b[39mimport\u001b[39;00m \u001b[39mipywidgets\u001b[39;00m \u001b[39mas\u001b[39;00m \u001b[39mwidgets\u001b[39;00m\n\u001b[0;32m      3\u001b[0m \u001b[39mfrom\u001b[39;00m \u001b[39mIPython\u001b[39;00m\u001b[39m.\u001b[39;00m\u001b[39mdisplay\u001b[39;00m \u001b[39mimport\u001b[39;00m display\n\u001b[0;32m      5\u001b[0m \u001b[39mimport\u001b[39;00m \u001b[39msys\u001b[39;00m\n",
      "\u001b[1;31mModuleNotFoundError\u001b[0m: No module named 'ipywidgets'"
     ]
    }
   ],
   "source": [
    "import sys\n",
    "import os\n",
    "import hashlib\n",
    "import matplotlib\n",
    "import numpy as np\n",
    "import matplotlib.pyplot as plt\n",
    "import math\n",
    "from cryptography.fernet import Fernet"
   ]
  },
  {
   "cell_type": "code",
   "execution_count": null,
   "metadata": {},
   "outputs": [],
   "source": [
    "# see https://gist.github.com/cbwar/d2dfbc19b140bd599daccbe0fe925597\n",
    "def sizeof_fmt(num, suffix='b'):\n",
    "    \"\"\"Readable file size\n",
    "    :param num: Bytes value\n",
    "    :type num: int\n",
    "    :param suffix: Unit suffix (optionnal) default = o\n",
    "    :type suffix: str\n",
    "    :rtype: str\n",
    "    \"\"\"\n",
    "    for unit in ['', 'k', 'M', 'G', 'T', 'P', 'E', 'Z']:\n",
    "        if abs(num) < 1024.0:\n",
    "            return \"%3.1f %s%s\" % (num, unit, suffix)\n",
    "        num /= 1024.0\n",
    "    return \"%.1f%s%s\" % (num, 'Yi', suffix)\n",
    "\n",
    "BUF_SIZE = 65536  # lets read data in 64kb chunks!\n",
    "\n",
    "def show_input_file(input_file):\n",
    "    md5 = hashlib.md5()\n",
    "    sha1 = hashlib.sha1()\n",
    "\n",
    "    with open(input_file, 'rb') as f:\n",
    "        while True:\n",
    "            data = f.read(BUF_SIZE)\n",
    "            if not data:\n",
    "                break\n",
    "            md5.update(data)\n",
    "            sha1.update(data)\n",
    "\n",
    "    md5 = md5.hexdigest()\n",
    "    sha1 = sha1.hexdigest()\n",
    "\n",
    "    print(\"file\", input_file)\n",
    "    print(\"MD5: {0}\".format(md5))\n",
    "    print(\"SHA1: {0}\".format(sha1))\n",
    "\n",
    "    arr = np.fromfile(input_file, dtype=np.ubyte)\n",
    "\n",
    "    filesize = len(arr)\n",
    "    filesize_text = sizeof_fmt(filesize)\n",
    "    print(\"size:\", filesize_text)\n",
    "\n",
    "    linelength = math.ceil(math.sqrt(len(arr)))\n",
    "    len_missing = (linelength**2 - len(arr))\n",
    "\n",
    "    # add zero padding so we have proper square\n",
    "    arr_padded = np.pad(arr, (0, len_missing), mode=\"constant\", constant_values=0)\n",
    "    del arr\n",
    "\n",
    "    # reshape into quadratic matrix\n",
    "    matrix = arr_padded.reshape(linelength, linelength)\n",
    "    del arr_padded\n",
    "\n",
    "    input_filename = os.path.basename(input_file)\n",
    "    output_filename = input_filename + \".png\"\n",
    "\n",
    "    # see https://www.geeksforgeeks.org/matplotlib-pyplot-pcolormesh-in-python/\n",
    "    fig, ax = plt.subplots()\n",
    "    ax.matshow(matrix)\n",
    "    del matrix\n",
    "\n",
    "    ax.set_xlabel(\"SHA1: \" + sha1 + \"\\nMD5: \" + md5)\n",
    "    #plt.ylim(0, 1000)  # Set the y-axis limits\n",
    "    #plt.xlim(0, 1000)  # Set the x-axis limits\n",
    "    plt.title(input_filename + \" (\" + sizeof_fmt(filesize) + \")\", loc=\"left\", fontweight=\"bold\")\n",
    "    plt.show()"
   ]
  },
  {
   "cell_type": "code",
   "execution_count": null,
   "metadata": {},
   "outputs": [],
   "source": [
    "input_jpg = \"C:\\Git\\SecurityDataVisualization\\Visualize Binary File as Image\\example_images\\ost_campus_buchs.jpg\"\n",
    "show_input_file(input_jpg)"
   ]
  },
  {
   "cell_type": "code",
   "execution_count": null,
   "metadata": {},
   "outputs": [],
   "source": [
    "input_png = \"C:\\Git\\SecurityDataVisualization\\Visualize Binary File as Image\\example_images\\ost_campus_buchs.png\"\n",
    "show_input_file(input_png)"
   ]
  },
  {
   "cell_type": "code",
   "execution_count": null,
   "metadata": {},
   "outputs": [],
   "source": [
    "input_gif = \"C:\\Git\\SecurityDataVisualization\\Visualize Binary File as Image\\example_images\\ost_campus_buchs.gif\"\n",
    "show_input_file(input_gif)"
   ]
  },
  {
   "cell_type": "code",
   "execution_count": null,
   "metadata": {},
   "outputs": [],
   "source": [
    "input_bmp = \"C:\\Git\\SecurityDataVisualization\\Visualize Binary File as Image\\example_images\\ost_campus_buchs.bmp\"\n",
    "show_input_file(input_bmp)"
   ]
  },
  {
   "cell_type": "code",
   "execution_count": null,
   "metadata": {},
   "outputs": [],
   "source": [
    "unprotected_excel = r'C:\\Git\\SecurityDataVisualization\\Visualize Binary File as Image\\example_files\\unprotected_excel.xlsx'\n",
    "show_input_file(unprotected_excel)"
   ]
  },
  {
   "cell_type": "code",
   "execution_count": null,
   "metadata": {},
   "outputs": [],
   "source": [
    "protected_excel = r\"C:\\Git\\SecurityDataVisualization\\Visualize Binary File as Image\\example_files\\protected_excel.xlsx\"\n",
    "show_input_file(protected_excel)"
   ]
  },
  {
   "cell_type": "code",
   "execution_count": null,
   "metadata": {},
   "outputs": [],
   "source": [
    "# Generate a random encryption key\n",
    "encryption_key = Fernet.generate_key()\n",
    "\n",
    "# Create a Fernet cipher object with the encryption key\n",
    "cipher = Fernet(encryption_key)\n",
    "\n",
    "# Read the document content\n",
    "with open(protected_excel, 'rb') as file:\n",
    "    document_content = file.read()\n",
    "\n",
    "# Encrypt the document content\n",
    "encrypted_content = cipher.encrypt(document_content)\n",
    "\n",
    "file_location = os.path.dirname(protected_excel)\n",
    "\n",
    "# Write the encrypted content to a new file\n",
    "with open(str(file_location + '\\encrypted.xlsx'), 'wb') as file:\n",
    "    file.write(encrypted_content)"
   ]
  },
  {
   "cell_type": "code",
   "execution_count": null,
   "metadata": {},
   "outputs": [],
   "source": [
    "encrypted_file = str(file_location + '\\encrypted.xlsx')\n",
    "show_input_file(encrypted_file)"
   ]
  },
  {
   "cell_type": "code",
   "execution_count": null,
   "metadata": {},
   "outputs": [],
   "source": []
  }
 ],
 "metadata": {
  "kernelspec": {
   "display_name": ".venv",
   "language": "python",
   "name": "python3"
  },
  "language_info": {
   "codemirror_mode": {
    "name": "ipython",
    "version": 3
   },
   "file_extension": ".py",
   "mimetype": "text/x-python",
   "name": "python",
   "nbconvert_exporter": "python",
   "pygments_lexer": "ipython3",
   "version": "3.10.11"
  },
  "orig_nbformat": 4
 },
 "nbformat": 4,
 "nbformat_minor": 2
}
