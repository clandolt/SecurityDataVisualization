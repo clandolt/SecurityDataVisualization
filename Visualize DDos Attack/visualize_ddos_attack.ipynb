{
 "cells": [
  {
   "cell_type": "markdown",
   "metadata": {},
   "source": [
    "# Visualize DDoS Attack"
   ]
  },
  {
   "cell_type": "code",
   "execution_count": null,
   "metadata": {},
   "outputs": [],
   "source": [
    "import pandas as pd\n",
    "import os\n",
    "import networkx as nx\n",
    "import matplotlib.pyplot as plt"
   ]
  },
  {
   "cell_type": "code",
   "execution_count": null,
   "metadata": {},
   "outputs": [],
   "source": [
    "http_flood_file_relative_path = '../data/Edge-IIoTset dataset/Attack traffic/DDoS_HTTP_Flood_attack.csv'\n",
    "\n",
    "http_flood_file = os.path.abspath(http_flood_file_relative_path)\n",
    "# Read the CSV file\n",
    "http_flood_df = pd.read_csv(http_flood_file)\n",
    "\n",
    "# Display the data\n",
    "http_flood_df.head(5)"
   ]
  },
  {
   "cell_type": "code",
   "execution_count": null,
   "metadata": {},
   "outputs": [],
   "source": [
    "# Create a directed graph\n",
    "G = nx.DiGraph()\n",
    "\n",
    "filtered_df = http_flood_df[\n",
    "    (http_flood_df['ip.src_host'] != '0.0.0.0') &\n",
    "    (http_flood_df['ip.src_host'] != '0') &\n",
    "    (http_flood_df['ip.dst_host'] != '224.0.0.1') &\n",
    "    (http_flood_df['ip.dst_host'] != '0')\n",
    "]\n",
    "\n",
    "# Get the count of connections for each source node\n",
    "node_sizes = http_flood_df['ip.src_host'].value_counts()\n",
    "\n",
    "# Add edges from 'ip.src_host' to 'ip.dst_host'\n",
    "for index, row in filtered_df.iterrows():\n",
    "    src_host = row['ip.src_host']\n",
    "    dst_host = row['ip.dst_host']\n",
    "    dst_port = row['tcp.dstport']\n",
    "    if src_host not in G.nodes():\n",
    "        G.add_node(src_host, size=node_sizes[src_host])\n",
    "    if G.has_edge(src_host, dst_host):\n",
    "        G[src_host][dst_host]['count'] += 1\n",
    "    else:\n",
    "        G.add_edge(src_host, dst_host, count=1, dst_port=str('Port: ' + str(int(dst_port))))\n",
    "\n",
    "\n",
    "# Plot the graph with one-directional edges and tcp.dstport labels\n",
    "plt.figure(figsize=(30, 30))\n",
    "pos = nx.spring_layout(G)\n",
    "nx.draw_networkx(G, pos, node_size=[node_sizes.get(node, 1) * 1.1 for node in G.nodes()], with_labels=True, font_size=12, arrows=True)\n",
    "edge_labels = nx.get_edge_attributes(G, 'dst_port')\n",
    "nx.draw_networkx_edge_labels(G, pos, edge_labels=edge_labels)\n",
    "plt.title('HTTP Flood Connections', fontsize=36)\n",
    "plt.show()"
   ]
  }
 ],
 "metadata": {
  "kernelspec": {
   "display_name": ".venv",
   "language": "python",
   "name": "python3"
  },
  "language_info": {
   "codemirror_mode": {
    "name": "ipython",
    "version": 3
   },
   "file_extension": ".py",
   "mimetype": "text/x-python",
   "name": "python",
   "nbconvert_exporter": "python",
   "pygments_lexer": "ipython3",
   "version": "3.10.11"
  },
  "orig_nbformat": 4
 },
 "nbformat": 4,
 "nbformat_minor": 2
}
