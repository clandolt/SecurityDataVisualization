{
 "cells": [
  {
   "cell_type": "markdown",
   "metadata": {},
   "source": [
    "# Visualize Port Scan"
   ]
  },
  {
   "cell_type": "code",
   "execution_count": null,
   "metadata": {},
   "outputs": [],
   "source": [
    "import pandas as pd\n",
    "import os\n",
    "import warnings\n",
    "import matplotlib.pyplot as plt\n",
    "import networkx as nx\n",
    "\n",
    "# Suppress DeprecationWarning from pandas\n",
    "warnings.filterwarnings(\"ignore\", category=DeprecationWarning)"
   ]
  },
  {
   "cell_type": "code",
   "execution_count": null,
   "metadata": {},
   "outputs": [],
   "source": [
    "attack_file_relative_path = '../data/Edge-IIoTset dataset/Attack traffic/Port_Scanning_attack.csv'\n",
    "\n",
    "attack_file = os.path.abspath(attack_file_relative_path)\n",
    "# Read the CSV file\n",
    "attack_port_scan = pd.read_csv(attack_file)\n",
    "\n",
    "# Display the data\n",
    "attack_port_scan.head(5)"
   ]
  },
  {
   "cell_type": "code",
   "execution_count": null,
   "metadata": {},
   "outputs": [],
   "source": [
    "# Create a directed graph\n",
    "graph = nx.DiGraph()\n",
    "\n",
    "# Get unique source-destination pairs\n",
    "unique_pairs = attack_port_scan[['ip.src_host', 'ip.dst_host']].drop_duplicates()\n",
    "\n",
    "# Iterate over each pair\n",
    "for _, pair in unique_pairs.iterrows():\n",
    "    src_host = pair['ip.src_host']\n",
    "    dst_host = pair['ip.dst_host']\n",
    "    \n",
    "    # Filter the data for the specific source-destination pair\n",
    "    filtered_data = attack_port_scan[(attack_port_scan['ip.src_host'] == src_host) & (attack_port_scan['ip.dst_host'] == dst_host)]\n",
    "    \n",
    "    # Check if there is scan activity for the pair\n",
    "    if len(filtered_data['tcp.dstport'].unique()) > 10:\n",
    "        print(pair)\n",
    "        # Add edges from source host to destination ports\n",
    "        for port in filtered_data['tcp.dstport'].unique():\n",
    "            graph.add_edge(src_host, port)  # Add edge from source host to destination host\n",
    "            graph.add_edge(port,dst_host)  # Add edge from destination host to destination port\n",
    "\n",
    "        # Create a plot for the pair\n",
    "        plt.figure(figsize=(8, 6))\n",
    "        plt.xticks(filtered_data.index[::500], filtered_data['frame.time'][::500], rotation=90)  # Show every 100th timestamp\n",
    "        plt.plot(filtered_data['frame.time'], filtered_data['tcp.dstport'], marker='o')\n",
    "        plt.xlabel('Timestamp')\n",
    "        plt.ylabel('Destination Port')\n",
    "        plt.title(f'Scan Activity from {src_host} to {dst_host}')\n",
    "        plt.show()"
   ]
  },
  {
   "cell_type": "code",
   "execution_count": null,
   "metadata": {},
   "outputs": [],
   "source": []
  }
 ],
 "metadata": {
  "kernelspec": {
   "display_name": ".venv",
   "language": "python",
   "name": "python3"
  },
  "language_info": {
   "codemirror_mode": {
    "name": "ipython",
    "version": 3
   },
   "file_extension": ".py",
   "mimetype": "text/x-python",
   "name": "python",
   "nbconvert_exporter": "python",
   "pygments_lexer": "ipython3",
   "version": "3.10.11"
  },
  "orig_nbformat": 4
 },
 "nbformat": 4,
 "nbformat_minor": 2
}
