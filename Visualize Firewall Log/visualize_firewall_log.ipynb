{
 "cells": [
  {
   "cell_type": "markdown",
   "metadata": {},
   "source": [
    "# Visualize Firewall Log"
   ]
  },
  {
   "cell_type": "code",
   "execution_count": null,
   "metadata": {},
   "outputs": [],
   "source": [
    "import pandas as pd\n",
    "import os\n",
    "import warnings\n",
    "import matplotlib.pyplot as plt\n",
    "import networkx as nx\n",
    "\n",
    "# Suppress DeprecationWarning from pandas\n",
    "warnings.filterwarnings(\"ignore\", category=DeprecationWarning)"
   ]
  },
  {
   "cell_type": "code",
   "execution_count": null,
   "metadata": {},
   "outputs": [],
   "source": [
    "normal_file_relative_path = '../data/Edge-IIoTset dataset/Normal traffic/Heart_Rate/Heart_Rate.csv'\n",
    "\n",
    "normal_file = os.path.abspath(normal_file_relative_path)\n",
    "# Read the CSV file\n",
    "firewall_log = pd.read_csv(normal_file)\n",
    "\n",
    "# Display the data\n",
    "firewall_log.head(5)"
   ]
  },
  {
   "cell_type": "code",
   "execution_count": null,
   "metadata": {},
   "outputs": [],
   "source": [
    "# Get unique source-destination pairs\n",
    "unique_pairs = firewall_log[['ip.src_host', 'ip.dst_host']].drop_duplicates()\n",
    "\n",
    "# Iterate over each pair\n",
    "for _, pair in unique_pairs.iterrows():\n",
    "    # Create a new figure and graph for each pair\n",
    "    plt.figure(figsize=(12, 6))\n",
    "    graph = nx.DiGraph()\n",
    "\n",
    "    src_host = pair['ip.src_host']\n",
    "    dst_host = pair['ip.dst_host']\n",
    "    \n",
    "    # Filter the data for the specific source-destination pair\n",
    "    filtered_data = firewall_log[(firewall_log['ip.src_host'] == src_host) & (firewall_log['ip.dst_host'] == dst_host)]\n",
    "    \n",
    "    # Add edges from source host to destination ports\n",
    "    for port in filtered_data['tcp.dstport'].unique():\n",
    "        graph.add_edge(src_host, port)  # Add edge from source host to destination host\n",
    "        graph.add_edge(port, dst_host)  # Add edge from destination host to destination port\n",
    "\n",
    "    # Plot the graph with vertical alignment\n",
    "    pos = nx.spring_layout(graph, seed=42)\n",
    "    pos = {node: (x, -y) for node, (x, y) in pos.items()}\n",
    "    nx.draw_networkx(graph, pos, with_labels=True, node_size=500, font_size=10, edge_color='gray')\n",
    "    plt.title(f'Scan Activity for {src_host} to {dst_host}')\n",
    "    plt.axis('off')\n",
    "    plt.show()"
   ]
  },
  {
   "cell_type": "code",
   "execution_count": null,
   "metadata": {},
   "outputs": [],
   "source": []
  }
 ],
 "metadata": {
  "kernelspec": {
   "display_name": ".venv",
   "language": "python",
   "name": "python3"
  },
  "language_info": {
   "codemirror_mode": {
    "name": "ipython",
    "version": 3
   },
   "file_extension": ".py",
   "mimetype": "text/x-python",
   "name": "python",
   "nbconvert_exporter": "python",
   "pygments_lexer": "ipython3",
   "version": "3.10.11"
  },
  "orig_nbformat": 4
 },
 "nbformat": 4,
 "nbformat_minor": 2
}
